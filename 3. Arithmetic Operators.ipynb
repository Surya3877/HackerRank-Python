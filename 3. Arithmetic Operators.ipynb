{
 "cells": [
  {
   "cell_type": "markdown",
   "id": "8c16de70-3c0c-4c22-a61f-ef1477da25b6",
   "metadata": {},
   "source": [
    "# **Arithmetic Operators**\n",
    "\n",
    "**Task**\n",
    "\n",
    "The provided code sub reads two integers from STDIN, **a** and **b**, Add code to print three lines where:\n",
    "  1. The first line contains the sum of the two numbers.\n",
    "  2. The second line contains the difference of the two numbers (first - second).\n",
    "  3. The third line contains the product of the two numbers.\n",
    "\n",
    "**Example**\n",
    "\n",
    "**a = 3**\n",
    "\n",
    "**b = 5**\n",
    "\n",
    "pirnt the following:\n",
    "\n",
    "8\n",
    "\n",
    "-2\n",
    "\n",
    "15\n",
    "\n",
    "**Input Format**\n",
    "\n",
    "The first line contains the first integer, **a**.\n",
    "\n",
    "The second line contains the second integer, **b**\n",
    "\n",
    "**Constraints**\n",
    "\n",
    "**1 <= a <= 10 power 10**\n",
    "\n",
    "**1 <= b <= 10 power 10**\n",
    "\n",
    "**Output Format**\n",
    "\n",
    "Print the three lines as explained above.\n",
    "\n",
    "**Sample Input 0**\n",
    "\n",
    "3\n",
    "\n",
    "2\n",
    "\n",
    "**Sample Output 0**\n",
    "\n",
    "5\n",
    "\n",
    "1\n",
    "\n",
    "6\n",
    "\n",
    "**Explanation 0**\n",
    "\n",
    "3 + 2 => 5\n",
    "\n",
    "3 - 2 => 1\n",
    "\n",
    "3 * 2 => 6"
   ]
  },
  {
   "cell_type": "markdown",
   "id": "aba54b6f-675d-4bd9-b3d7-75d737f09b13",
   "metadata": {},
   "source": [
    "# **Solution**"
   ]
  },
  {
   "cell_type": "code",
   "execution_count": null,
   "id": "a7523288-7ecc-4503-8eb9-a2db290ab42b",
   "metadata": {},
   "outputs": [
    {
     "name": "stdin",
     "output_type": "stream",
     "text": [
      " 3\n"
     ]
    }
   ],
   "source": [
    "# Read the inputs\n",
    "a = int(input())\n",
    "b = int(input())\n",
    "\n",
    "# print the results\n",
    "print( a + b)    # sum\n",
    "print( a - b)    # Difference'\n",
    "print( a * b)    # product"
   ]
  },
  {
   "cell_type": "code",
   "execution_count": null,
   "id": "3790c1a5-cef4-428f-b5e9-9b7be174ab7d",
   "metadata": {},
   "outputs": [],
   "source": []
  }
 ],
 "metadata": {
  "kernelspec": {
   "display_name": "Python 3 (ipykernel)",
   "language": "python",
   "name": "python3"
  },
  "language_info": {
   "codemirror_mode": {
    "name": "ipython",
    "version": 3
   },
   "file_extension": ".py",
   "mimetype": "text/x-python",
   "name": "python",
   "nbconvert_exporter": "python",
   "pygments_lexer": "ipython3",
   "version": "3.9.18"
  }
 },
 "nbformat": 4,
 "nbformat_minor": 5
}
