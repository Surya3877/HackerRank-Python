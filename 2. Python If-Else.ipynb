{
 "cells": [
  {
   "cell_type": "markdown",
   "id": "26cce2df-f4de-45f8-b64d-b95d543782c7",
   "metadata": {},
   "source": [
    "# **Python If-Else**\n",
    "\n",
    "**Task**\n",
    "\n",
    "Given an integeger, **n**, perform the following conditional actions:\n",
    "- If **n** is odd, print **weird**\n",
    "- If **n** is even and in the inclusive range of **2** to **5**, print **Not weird**\n",
    "- If **n** is even and in the inclusive range 0f **6** to **20**, print **Weid**\n",
    "- If n is even and greater than **20**, print **Not Weird**\n",
    "\n",
    "**Input Format**\n",
    "\n",
    "A single line containing a positive integer, **n**.\n",
    "\n",
    "**Constraints**\n",
    "- **1 < n < 100**\n",
    "\n",
    "**Output Format**\n",
    "\n",
    "Print **Weird** if the number is weird. Otherwise, print **Not weird**\n",
    "\n",
    "**Sample Input 0**\n",
    "\n",
    "3\n",
    "\n",
    "**Sample Output 0**\n",
    "\n",
    "weird\n",
    "\n",
    "**Explanation 0**\n",
    "\n",
    "**n =3**\n",
    "\n",
    "**n** is odd and odd numbers are weird, so print **weird**.\n",
    "\n",
    "**Sample Input 1**\n",
    "\n",
    "24\n",
    "\n",
    "**Sample Output 1**\n",
    "\n",
    "Not weird\n",
    "\n",
    "**Explanation 1**\n",
    "\n",
    "**n = 24**\n",
    "\n",
    "**n > 20** and **n** is even, so it is not weird."
   ]
  },
  {
   "cell_type": "code",
   "execution_count": null,
   "id": "fd0086e7-a652-41e6-8fab-9949d640c999",
   "metadata": {},
   "outputs": [],
   "source": [
    "# Read input\n",
    "n = int(input())\n",
    "\n",
    "# Apply the conditions\n",
    "if n % 2 !=0:\n",
    "    print(\"weird\")\n",
    "if n % 2 == 0 and 2 <= n <= 5:\n",
    "    print(\"Not weird\")\n",
    "if n % 2 == 0 and 6 <= n <= 20:\n",
    "    print(\"weird\")\n",
    "if n % 2 == 0 and n > 20:\n",
    "    print(\"Not weird\")"
   ]
  },
  {
   "cell_type": "code",
   "execution_count": null,
   "id": "30f1d6f1-2536-46e5-84a3-189dd1abdd35",
   "metadata": {},
   "outputs": [],
   "source": []
  }
 ],
 "metadata": {
  "kernelspec": {
   "display_name": "Python 3 (ipykernel)",
   "language": "python",
   "name": "python3"
  },
  "language_info": {
   "codemirror_mode": {
    "name": "ipython",
    "version": 3
   },
   "file_extension": ".py",
   "mimetype": "text/x-python",
   "name": "python",
   "nbconvert_exporter": "python",
   "pygments_lexer": "ipython3",
   "version": "3.9.18"
  }
 },
 "nbformat": 4,
 "nbformat_minor": 5
}
