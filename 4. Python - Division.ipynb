{
 "cells": [
  {
   "cell_type": "markdown",
   "id": "206e159a-cb81-4b13-8d24-6efd93ea93fb",
   "metadata": {},
   "source": [
    "# **Python: Division**\n",
    "\n",
    "**Task**\n",
    "\n",
    "The provided code stub reads two integers, **a** and **b**, from STDIN.\n",
    "\n",
    "Add logic to print two lines. The first line should contain the result of integer division. **a** // b. The second line should contain the result of float division, a / b.\n",
    "\n",
    "No routing or formatting is necessary.\n",
    "\n",
    "**Example**\n",
    "\n",
    "a = 3\n",
    "\n",
    "b = 5\n",
    "\n",
    "- THe result of the integer division **3//5 = 0**\n",
    "- The result of the float division is **3/5 = 0.6**\n",
    "\n",
    "print:\n",
    "\n",
    "0\n",
    "\n",
    "0.6\n",
    "\n",
    "**Input Format**\n",
    "\n",
    "The first line contains the first intefer, a.\n",
    "\n",
    "The second line contains the second integer, b.\n",
    "\n",
    "**Output Format**\n",
    "\n",
    "Print the two lines as described above\n",
    "\n",
    "**Sample Input 0**\n",
    "\n",
    "4\n",
    "\n",
    "5\n",
    "\n",
    "**Sample Output 0**\n",
    "\n",
    "1\n",
    "1.33333333333"
   ]
  },
  {
   "cell_type": "markdown",
   "id": "e7ac9a98-e08c-4009-b599-408d36cb42cf",
   "metadata": {},
   "source": [
    "# **Solution**"
   ]
  },
  {
   "cell_type": "code",
   "execution_count": 3,
   "id": "77ef21ae-153f-4d2d-b71a-71d43fd37c62",
   "metadata": {},
   "outputs": [
    {
     "name": "stdin",
     "output_type": "stream",
     "text": [
      " 4\n",
      " 5\n"
     ]
    },
    {
     "name": "stdout",
     "output_type": "stream",
     "text": [
      "0\n",
      "0.8\n"
     ]
    }
   ],
   "source": [
    "# Read two integer\n",
    "a = int(input())\n",
    "b = int(input())\n",
    "\n",
    "# Print the result\n",
    "print(a // b)    # Integer division\n",
    "print(a / b)     # Float dividion"
   ]
  },
  {
   "cell_type": "code",
   "execution_count": null,
   "id": "c3001f21-aae8-418a-a2ab-7ce314cc0b4e",
   "metadata": {},
   "outputs": [],
   "source": []
  }
 ],
 "metadata": {
  "kernelspec": {
   "display_name": "Python 3 (ipykernel)",
   "language": "python",
   "name": "python3"
  },
  "language_info": {
   "codemirror_mode": {
    "name": "ipython",
    "version": 3
   },
   "file_extension": ".py",
   "mimetype": "text/x-python",
   "name": "python",
   "nbconvert_exporter": "python",
   "pygments_lexer": "ipython3",
   "version": "3.9.18"
  }
 },
 "nbformat": 4,
 "nbformat_minor": 5
}
