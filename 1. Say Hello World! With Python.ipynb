{
 "cells": [
  {
   "cell_type": "markdown",
   "id": "14c0f284-8fc8-4d8a-9af3-5778af3de27b",
   "metadata": {},
   "source": [
    "# **Say \"Hello, World!\" with Python**"
   ]
  },
  {
   "cell_type": "markdown",
   "id": "1b72f683-9ba9-4946-95d7-7c2498fb1591",
   "metadata": {},
   "source": [
    "Here is a sample line code that can be executed in Python:\n",
    "\n",
    "print(\"Hello, World!\")\n",
    "\n",
    "You can just as easily store a string as a variable and then print it to stdout:\n",
    "\n",
    "my_string = \"Hello, World!\"\n",
    "print(my_string)\n",
    "\n",
    "The above code will print Hello, World! on your screen. Try it yourself in the editor below!\n",
    "\n",
    "**Input Format**\n",
    "\n",
    "You do not need to read any input input in this c"
   ]
  },
  {
   "cell_type": "code",
   "execution_count": 1,
   "id": "204690ed-cab6-42f4-adbc-878210a34062",
   "metadata": {},
   "outputs": [
    {
     "name": "stdout",
     "output_type": "stream",
     "text": [
      "Hello, World!\n"
     ]
    }
   ],
   "source": [
    "print(\"Hello, World!\")"
   ]
  },
  {
   "cell_type": "code",
   "execution_count": null,
   "id": "d6fb02ee-ddbf-4275-92cf-fb42c77b66b5",
   "metadata": {},
   "outputs": [],
   "source": []
  }
 ],
 "metadata": {
  "kernelspec": {
   "display_name": "Python 3 (ipykernel)",
   "language": "python",
   "name": "python3"
  },
  "language_info": {
   "codemirror_mode": {
    "name": "ipython",
    "version": 3
   },
   "file_extension": ".py",
   "mimetype": "text/x-python",
   "name": "python",
   "nbconvert_exporter": "python",
   "pygments_lexer": "ipython3",
   "version": "3.9.18"
  }
 },
 "nbformat": 4,
 "nbformat_minor": 5
}
